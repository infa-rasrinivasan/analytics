{
 "cells": [
  {
   "cell_type": "markdown",
   "id": "ab6b104b",
   "metadata": {},
   "source": [
    "### Amazon Toys Customer Reviews Data from S3"
   ]
  },
  {
   "cell_type": "code",
   "execution_count": 1,
   "id": "5704793c",
   "metadata": {},
   "outputs": [
    {
     "data": {
      "application/vnd.jupyter.widget-view+json": {
       "model_id": "d35fe0f616b7460e99631a4b85966430",
       "version_major": 2,
       "version_minor": 0
      },
      "text/plain": [
       "VBox()"
      ]
     },
     "metadata": {},
     "output_type": "display_data"
    },
    {
     "name": "stdout",
     "output_type": "stream",
     "text": [
      "Starting Spark application\n"
     ]
    },
    {
     "data": {
      "text/html": [
       "<table>\n<tbody><tr><th>ID</th><th>YARN Application ID</th><th>Kind</th><th>State</th><th>Spark UI</th><th>Driver log</th><th>Current session?</th></tr><tr><td>1</td><td>application_1623800683394_0002</td><td>pyspark</td><td>idle</td><td><a target=\"_blank\" href=\"http://ip-10-0-21-113.ec2.internal:20888/proxy/application_1623800683394_0002/\" class=\"emr-proxy-link j-1O7YBUKT7J6OZ application_1623800683394_0002\" emr-resource=\"j-1O7YBUKT7J6OZ\n\" application-id=\"application_1623800683394_0002\">Link</a></td><td><a target=\"_blank\" href=\"http://ip-10-0-21-211.ec2.internal:8042/node/containerlogs/container_1623800683394_0002_01_000001/livy\">Link</a></td><td>✔</td></tr></tbody></table>"
      ],
      "text/plain": [
       "<IPython.core.display.HTML object>"
      ]
     },
     "metadata": {},
     "output_type": "display_data"
    },
    {
     "data": {
      "application/vnd.jupyter.widget-view+json": {
       "model_id": "",
       "version_major": 2,
       "version_minor": 0
      },
      "text/plain": [
       "FloatProgress(value=0.0, bar_style='info', description='Progress:', layout=Layout(height='25px', width='50%'),…"
      ]
     },
     "metadata": {},
     "output_type": "display_data"
    },
    {
     "name": "stdout",
     "output_type": "stream",
     "text": [
      "SparkSession available as 'spark'.\n"
     ]
    },
    {
     "data": {
      "application/vnd.jupyter.widget-view+json": {
       "model_id": "",
       "version_major": 2,
       "version_minor": 0
      },
      "text/plain": [
       "FloatProgress(value=0.0, bar_style='info', description='Progress:', layout=Layout(height='25px', width='50%'),…"
      ]
     },
     "metadata": {},
     "output_type": "display_data"
    }
   ],
   "source": [
    "INPUT_LOCATION=\"s3://amazon-reviews-pds/tsv/amazon_reviews_us_Toys_v1_00.tsv.gz\""
   ]
  },
  {
   "cell_type": "markdown",
   "id": "48ea0a8c",
   "metadata": {},
   "source": [
    "### Read Amazon reviews data for Toys"
   ]
  },
  {
   "cell_type": "code",
   "execution_count": null,
   "id": "962e5c3e",
   "metadata": {},
   "outputs": [],
   "source": [
    "toysReviewsDF = spark.read.option('sep', '\\t').option('header', 'true').csv(INPUT_LOCATION)"
   ]
  },
  {
   "cell_type": "markdown",
   "id": "df73a46f",
   "metadata": {},
   "source": [
    "### Print the total number of records:"
   ]
  },
  {
   "cell_type": "code",
   "execution_count": null,
   "id": "703f8601",
   "metadata": {},
   "outputs": [],
   "source": [
    "print(toysReviewsDF.count())"
   ]
  },
  {
   "cell_type": "markdown",
   "id": "17343885",
   "metadata": {},
   "source": [
    "### Print the schema:"
   ]
  },
  {
   "cell_type": "code",
   "execution_count": null,
   "id": "98452a62",
   "metadata": {},
   "outputs": [],
   "source": [
    "print(toysReviewsDF.printSchema())"
   ]
  },
  {
   "cell_type": "markdown",
   "id": "d2b1d2af",
   "metadata": {},
   "source": [
    "### Print few sample records"
   ]
  },
  {
   "cell_type": "code",
   "execution_count": null,
   "id": "3e6d9c47",
   "metadata": {},
   "outputs": [],
   "source": [
    "print(toysReviewsDF.show())"
   ]
  },
  {
   "cell_type": "markdown",
   "id": "da053678",
   "metadata": {},
   "source": [
    "### Repartition for multiple output files and write out to parquet"
   ]
  },
  {
   "cell_type": "code",
   "execution_count": null,
   "id": "e46d1772",
   "metadata": {},
   "outputs": [],
   "source": [
    "#df.repartition(10).write.mode('overwrite').parquet(OUTPUT_LOCATION)"
   ]
  }
 ],
 "metadata": {
  "kernelspec": {
   "display_name": "PySpark",
   "language": "",
   "name": "pysparkkernel"
  },
  "language_info": {
   "codemirror_mode": {
    "name": "python",
    "version": 3
   },
   "mimetype": "text/x-python",
   "name": "pyspark",
   "pygments_lexer": "python3"
  }
 },
 "nbformat": 4,
 "nbformat_minor": 5
}
